{
 "cells": [
  {
   "cell_type": "code",
   "execution_count": 6,
   "id": "1717784c",
   "metadata": {},
   "outputs": [],
   "source": [
    "import pandas as pd"
   ]
  },
  {
   "cell_type": "code",
   "execution_count": 27,
   "id": "74027d3a",
   "metadata": {},
   "outputs": [],
   "source": []
  },
  {
   "cell_type": "code",
   "execution_count": 32,
   "id": "6e8ca7b1",
   "metadata": {},
   "outputs": [
    {
     "name": "stdout",
     "output_type": "stream",
     "text": [
      "Cadastro de Clientes\n",
      "1-Casdastro de Clientes:\n",
      "2-Sair\n",
      "Escolha uma Opção1\n",
      "-----------------------------nDigite o nome do ClienteCarlos Alberto\n",
      "Digite o telefone do Cliente11 99164596\n",
      "Digite o saldo (em reais):100\n",
      "-----------------------------n-----------------------------nFim do cadastro de clientes\n",
      "Cadastro de Clientes\n",
      "1-Casdastro de Clientes:\n",
      "2-Sair\n",
      "Escolha uma Opção2\n"
     ]
    }
   ],
   "source": [
    "arq = open('C:/Python/Teste/banco.txt','w')\n",
    "arq.writelines(['Nome', '\\t', 'Telefone','\\t','Saldo' , '\\n'])\n",
    "arq.close()\n",
    "\n",
    "\n",
    "controle = 1\n",
    "while True:\n",
    "    print ('Cadastro de Clientes')\n",
    "    print ('1-Casdastro de Clientes:')\n",
    "    print ('2-Sair')\n",
    "    controle = int(input ('Escolha uma Opção'))\n",
    "    if (controle ==2):\n",
    "        break\n",
    "    print ('-----------------------------', end = 'n') \n",
    "    #teste das opções\n",
    "    if controle == 1:\n",
    "        nome = input('Digite o nome do Cliente')\n",
    "        telefone = input('Digite o telefone do Cliente')\n",
    "        saldo = float(input('Digite o saldo (em reais):'))\n",
    "        msg = [nome,'\\t', telefone , '\\t\\t', str(saldo), '\\n']\n",
    "        #Abre o arquivo .txt caso não exista o arquivo será criado\n",
    "        arq = open('C:/Python/Teste/banco.txt','a')\n",
    "        arq.writelines(msg)\n",
    "        arq.close()\n",
    "        print ('-----------------------------', end = 'n') \n",
    "    print ('-----------------------------', end = 'n')\n",
    "    print ('Fim do cadastro de clientes') "
   ]
  },
  {
   "cell_type": "code",
   "execution_count": null,
   "id": "10429b1e",
   "metadata": {},
   "outputs": [],
   "source": []
  },
  {
   "cell_type": "code",
   "execution_count": null,
   "id": "cf183976",
   "metadata": {},
   "outputs": [],
   "source": []
  },
  {
   "cell_type": "code",
   "execution_count": null,
   "id": "1d3bc3be",
   "metadata": {},
   "outputs": [],
   "source": []
  },
  {
   "cell_type": "code",
   "execution_count": null,
   "id": "b7d2cc11",
   "metadata": {},
   "outputs": [],
   "source": []
  }
 ],
 "metadata": {
  "kernelspec": {
   "display_name": "Python 3 (ipykernel)",
   "language": "python",
   "name": "python3"
  },
  "language_info": {
   "codemirror_mode": {
    "name": "ipython",
    "version": 3
   },
   "file_extension": ".py",
   "mimetype": "text/x-python",
   "name": "python",
   "nbconvert_exporter": "python",
   "pygments_lexer": "ipython3",
   "version": "3.11.0"
  }
 },
 "nbformat": 4,
 "nbformat_minor": 5
}
